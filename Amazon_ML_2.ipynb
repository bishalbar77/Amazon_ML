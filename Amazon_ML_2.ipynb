{
  "nbformat": 4,
  "nbformat_minor": 0,
  "metadata": {
    "colab": {
      "name": "Amazon ML-2.ipynb",
      "provenance": [],
      "collapsed_sections": [],
      "include_colab_link": true
    },
    "kernelspec": {
      "display_name": "Python 3",
      "name": "python3"
    },
    "language_info": {
      "name": "python"
    }
  },
  "cells": [
    {
      "cell_type": "markdown",
      "metadata": {
        "id": "view-in-github",
        "colab_type": "text"
      },
      "source": [
        "<a href=\"https://colab.research.google.com/github/bishalbar77/Amazon_ML/blob/main/Amazon_ML_2.ipynb\" target=\"_parent\"><img src=\"https://colab.research.google.com/assets/colab-badge.svg\" alt=\"Open In Colab\"/></a>"
      ]
    },
    {
      "cell_type": "code",
      "metadata": {
        "id": "tkbYA522CbHn"
      },
      "source": [
        "mkdir amazon_contest"
      ],
      "execution_count": 3,
      "outputs": []
    },
    {
      "cell_type": "code",
      "metadata": {
        "colab": {
          "base_uri": "https://localhost:8080/"
        },
        "id": "Dau0b22JCeTC",
        "outputId": "e652bb11-db55-4bcb-cb48-5b25ab27f109"
      },
      "source": [
        "cd amazon_contest/"
      ],
      "execution_count": 4,
      "outputs": [
        {
          "output_type": "stream",
          "text": [
            "/content/amazon_contest\n"
          ],
          "name": "stdout"
        }
      ]
    },
    {
      "cell_type": "code",
      "metadata": {
        "colab": {
          "base_uri": "https://localhost:8080/"
        },
        "id": "WHe8WKbh6PDw",
        "outputId": "1d853cbc-fee3-408c-98eb-1c387857ba57"
      },
      "source": [
        "!wget https://s3-ap-southeast-1.amazonaws.com/he-public-data/dataset52a7b21.zip"
      ],
      "execution_count": 5,
      "outputs": [
        {
          "output_type": "stream",
          "text": [
            "--2021-08-01 17:14:04--  https://s3-ap-southeast-1.amazonaws.com/he-public-data/dataset52a7b21.zip\n",
            "Resolving s3-ap-southeast-1.amazonaws.com (s3-ap-southeast-1.amazonaws.com)... 52.219.128.138\n",
            "Connecting to s3-ap-southeast-1.amazonaws.com (s3-ap-southeast-1.amazonaws.com)|52.219.128.138|:443... connected.\n",
            "HTTP request sent, awaiting response... 200 OK\n",
            "Length: 1061576029 (1012M) [binary/octet-stream]\n",
            "Saving to: ‘dataset52a7b21.zip’\n",
            "\n",
            "dataset52a7b21.zip  100%[===================>]   1012M  13.0MB/s    in 84s     \n",
            "\n",
            "2021-08-01 17:15:29 (12.0 MB/s) - ‘dataset52a7b21.zip’ saved [1061576029/1061576029]\n",
            "\n"
          ],
          "name": "stdout"
        }
      ]
    },
    {
      "cell_type": "code",
      "metadata": {
        "colab": {
          "base_uri": "https://localhost:8080/"
        },
        "id": "zxEZR_fg87Sb",
        "outputId": "e06e73c3-a482-41c0-a760-a4a1e332c613"
      },
      "source": [
        "!unzip dataset52a7b21.zip"
      ],
      "execution_count": 6,
      "outputs": [
        {
          "output_type": "stream",
          "text": [
            "Archive:  dataset52a7b21.zip\n",
            "   creating: dataset/\n",
            "  inflating: dataset/train.csv       \n",
            "  inflating: dataset/sample_submission.csv  \n",
            "  inflating: dataset/test.csv        \n",
            "  inflating: dataset/.~lock.train.csv#  \n"
          ],
          "name": "stdout"
        }
      ]
    },
    {
      "cell_type": "code",
      "metadata": {
        "id": "p3IRV7Zg9I9Z"
      },
      "source": [
        "import numpy as np\n",
        "import pandas as pd\n",
        "import re\n",
        "import nltk\n",
        "import spacy\n",
        "import string\n",
        "pd.options.mode.chained_assignment = None\n",
        "from nltk.corpus import stopwords"
      ],
      "execution_count": null,
      "outputs": []
    },
    {
      "cell_type": "code",
      "metadata": {
        "id": "2icPAGgM9Oke"
      },
      "source": [
        "trainData = pd.read_csv('/content/amazon_contest/dataset/train.csv',escapechar = \"\\\\\" , quoting=3)"
      ],
      "execution_count": null,
      "outputs": []
    },
    {
      "cell_type": "code",
      "metadata": {
        "colab": {
          "base_uri": "https://localhost:8080/",
          "height": 585
        },
        "id": "2RSsjRnz-20q",
        "outputId": "51f64403-0654-4f7d-d6ca-f116cd3a722c"
      },
      "source": [
        "trainData"
      ],
      "execution_count": null,
      "outputs": [
        {
          "output_type": "execute_result",
          "data": {
            "text/html": [
              "<div>\n",
              "<style scoped>\n",
              "    .dataframe tbody tr th:only-of-type {\n",
              "        vertical-align: middle;\n",
              "    }\n",
              "\n",
              "    .dataframe tbody tr th {\n",
              "        vertical-align: top;\n",
              "    }\n",
              "\n",
              "    .dataframe thead th {\n",
              "        text-align: right;\n",
              "    }\n",
              "</style>\n",
              "<table border=\"1\" class=\"dataframe\">\n",
              "  <thead>\n",
              "    <tr style=\"text-align: right;\">\n",
              "      <th></th>\n",
              "      <th>TITLE</th>\n",
              "      <th>DESCRIPTION</th>\n",
              "      <th>BULLET_POINTS</th>\n",
              "      <th>BRAND</th>\n",
              "      <th>BROWSE_NODE_ID</th>\n",
              "    </tr>\n",
              "  </thead>\n",
              "  <tbody>\n",
              "    <tr>\n",
              "      <th>0</th>\n",
              "      <td>Pete The Cat Bedtime Blues Doll, 14.5 Inch</td>\n",
              "      <td>Pete the Cat is the coolest, most popular cat ...</td>\n",
              "      <td>[Pete the Cat Bedtime Blues plush doll,Based o...</td>\n",
              "      <td>MerryMakers</td>\n",
              "      <td>0</td>\n",
              "    </tr>\n",
              "    <tr>\n",
              "      <th>1</th>\n",
              "      <td>The New Yorker NYHM014 Refrigerator Magnet, 2 ...</td>\n",
              "      <td>The New Yorker Handsome Cello Wrapped Hard Mag...</td>\n",
              "      <td>[Cat In A Tea Cup by New Yorker cover artist G...</td>\n",
              "      <td>The New Yorker</td>\n",
              "      <td>1</td>\n",
              "    </tr>\n",
              "    <tr>\n",
              "      <th>2</th>\n",
              "      <td>The Ultimate Self-Sufficiency Handbook: A Comp...</td>\n",
              "      <td>NaN</td>\n",
              "      <td>Skyhorse Publishing</td>\n",
              "      <td>imusti</td>\n",
              "      <td>2</td>\n",
              "    </tr>\n",
              "    <tr>\n",
              "      <th>3</th>\n",
              "      <td>Amway Nutrilite Kids Chewable Iron Tablets (100)</td>\n",
              "      <td>NaN</td>\n",
              "      <td>[Nutrilite Kids,Chewable Iron Tablets,Quantity...</td>\n",
              "      <td>Amway</td>\n",
              "      <td>3</td>\n",
              "    </tr>\n",
              "    <tr>\n",
              "      <th>4</th>\n",
              "      <td>Teacher Planner Company A4 6 Lesson Academic T...</td>\n",
              "      <td>NaN</td>\n",
              "      <td>NaN</td>\n",
              "      <td>NaN</td>\n",
              "      <td>4</td>\n",
              "    </tr>\n",
              "    <tr>\n",
              "      <th>...</th>\n",
              "      <td>...</td>\n",
              "      <td>...</td>\n",
              "      <td>...</td>\n",
              "      <td>...</td>\n",
              "      <td>...</td>\n",
              "    </tr>\n",
              "    <tr>\n",
              "      <th>2903019</th>\n",
              "      <td>Premium Aviator Sunglasses - HD Polarized (Bri...</td>\n",
              "      <td>These premium Aviator Sunglasses with 5 color ...</td>\n",
              "      <td>[Frame size: Lens height - 56mm, Lens width - ...</td>\n",
              "      <td>Generic</td>\n",
              "      <td>1040</td>\n",
              "    </tr>\n",
              "    <tr>\n",
              "      <th>2903020</th>\n",
              "      <td>Social Distance Stickers - Set of 5 Sticker Sl...</td>\n",
              "      <td>set of 5 prints social distancing sticker self...</td>\n",
              "      <td>[covid19 safety sticker - set of 5 to maintain...</td>\n",
              "      <td>Generic</td>\n",
              "      <td>15199</td>\n",
              "    </tr>\n",
              "    <tr>\n",
              "      <th>2903021</th>\n",
              "      <td>Torr-to Face Shield PACK OF 5 with Adjustable ...</td>\n",
              "      <td>* COMPLETE FACE PROTECTION: Torr-to Face Shiel...</td>\n",
              "      <td>[350 MICRONS PACK OF 5 PCS,COMPLETE FACE PROTE...</td>\n",
              "      <td>TORR-TO</td>\n",
              "      <td>1044933</td>\n",
              "    </tr>\n",
              "    <tr>\n",
              "      <th>2903022</th>\n",
              "      <td>Type-C to 3.5 MM for Oppo R17 Pro Type-C to 3....</td>\n",
              "      <td>Still want to use your favorite earphones/head...</td>\n",
              "      <td>[Indian Connectors: Made for Indian sockets, t...</td>\n",
              "      <td>SHOPBELL</td>\n",
              "      <td>14790</td>\n",
              "    </tr>\n",
              "    <tr>\n",
              "      <th>2903023</th>\n",
              "      <td>KNG Orange Polo Tshirt (38)</td>\n",
              "      <td>Performance inspired by comfort. The polo shir...</td>\n",
              "      <td>NaN</td>\n",
              "      <td>KNG</td>\n",
              "      <td>1213</td>\n",
              "    </tr>\n",
              "  </tbody>\n",
              "</table>\n",
              "<p>2903024 rows × 5 columns</p>\n",
              "</div>"
            ],
            "text/plain": [
              "                                                     TITLE  ... BROWSE_NODE_ID\n",
              "0               Pete The Cat Bedtime Blues Doll, 14.5 Inch  ...              0\n",
              "1        The New Yorker NYHM014 Refrigerator Magnet, 2 ...  ...              1\n",
              "2        The Ultimate Self-Sufficiency Handbook: A Comp...  ...              2\n",
              "3         Amway Nutrilite Kids Chewable Iron Tablets (100)  ...              3\n",
              "4        Teacher Planner Company A4 6 Lesson Academic T...  ...              4\n",
              "...                                                    ...  ...            ...\n",
              "2903019  Premium Aviator Sunglasses - HD Polarized (Bri...  ...           1040\n",
              "2903020  Social Distance Stickers - Set of 5 Sticker Sl...  ...          15199\n",
              "2903021  Torr-to Face Shield PACK OF 5 with Adjustable ...  ...        1044933\n",
              "2903022  Type-C to 3.5 MM for Oppo R17 Pro Type-C to 3....  ...          14790\n",
              "2903023                        KNG Orange Polo Tshirt (38)  ...           1213\n",
              "\n",
              "[2903024 rows x 5 columns]"
            ]
          },
          "metadata": {
            "tags": []
          },
          "execution_count": 14
        }
      ]
    },
    {
      "cell_type": "code",
      "metadata": {
        "id": "f5Qwa1yK_FKh"
      },
      "source": [
        "testData = pd.read_csv('/content/amazon_contest/dataset/test.csv',escapechar = \"\\\\\" , quoting=3)"
      ],
      "execution_count": null,
      "outputs": []
    },
    {
      "cell_type": "code",
      "metadata": {
        "colab": {
          "base_uri": "https://localhost:8080/",
          "height": 585
        },
        "id": "sjnNer-A_Lnu",
        "outputId": "71ae4477-f40e-453e-ff6b-42f69c9551c2"
      },
      "source": [
        "testData"
      ],
      "execution_count": null,
      "outputs": [
        {
          "output_type": "execute_result",
          "data": {
            "text/html": [
              "<div>\n",
              "<style scoped>\n",
              "    .dataframe tbody tr th:only-of-type {\n",
              "        vertical-align: middle;\n",
              "    }\n",
              "\n",
              "    .dataframe tbody tr th {\n",
              "        vertical-align: top;\n",
              "    }\n",
              "\n",
              "    .dataframe thead th {\n",
              "        text-align: right;\n",
              "    }\n",
              "</style>\n",
              "<table border=\"1\" class=\"dataframe\">\n",
              "  <thead>\n",
              "    <tr style=\"text-align: right;\">\n",
              "      <th></th>\n",
              "      <th>PRODUCT_ID</th>\n",
              "      <th>TITLE</th>\n",
              "      <th>DESCRIPTION</th>\n",
              "      <th>BULLET_POINTS</th>\n",
              "      <th>BRAND</th>\n",
              "    </tr>\n",
              "  </thead>\n",
              "  <tbody>\n",
              "    <tr>\n",
              "      <th>0</th>\n",
              "      <td>1</td>\n",
              "      <td>Command 3M Small Kitchen Hooks, White, Decorat...</td>\n",
              "      <td>Sale Unit: PACK</td>\n",
              "      <td>[INCLUDES - 9 hooks and 12 small indoor strips...</td>\n",
              "      <td>Command</td>\n",
              "    </tr>\n",
              "    <tr>\n",
              "      <th>1</th>\n",
              "      <td>2</td>\n",
              "      <td>O'Neal Jump Hardware JAG Unisex-Adult Glove (B...</td>\n",
              "      <td>Synthetic leather palm with double-layer thumb...</td>\n",
              "      <td>[Silicone printing for a better grip. Long las...</td>\n",
              "      <td>O'Neal</td>\n",
              "    </tr>\n",
              "    <tr>\n",
              "      <th>2</th>\n",
              "      <td>3</td>\n",
              "      <td>NFL Detroit Lions Portable Party Fridge, 15.8 ...</td>\n",
              "      <td>Boelter Brands lets you celebrate your favorit...</td>\n",
              "      <td>[Runs on 12 Volt DC Power or 110 Volt AC Power...</td>\n",
              "      <td>Boelter Brands</td>\n",
              "    </tr>\n",
              "    <tr>\n",
              "      <th>3</th>\n",
              "      <td>4</td>\n",
              "      <td>Panasonic Single Line KX-TS880MX Corded Phone ...</td>\n",
              "      <td>Features: 50 Station Phonebook Corded Phone Al...</td>\n",
              "      <td>Panasonic Landline Phones doesn't come with a ...</td>\n",
              "      <td>Panasonic</td>\n",
              "    </tr>\n",
              "    <tr>\n",
              "      <th>4</th>\n",
              "      <td>5</td>\n",
              "      <td>Zero Baby Girl's 100% Cotton Innerwear Bloomer...</td>\n",
              "      <td>Zero Baby Girl Panties Set. 100% Cotton, Breat...</td>\n",
              "      <td>[Zero Baby Girl Panties, Pack of 6, 100% Cotto...</td>\n",
              "      <td>Zero</td>\n",
              "    </tr>\n",
              "    <tr>\n",
              "      <th>...</th>\n",
              "      <td>...</td>\n",
              "      <td>...</td>\n",
              "      <td>...</td>\n",
              "      <td>...</td>\n",
              "      <td>...</td>\n",
              "    </tr>\n",
              "    <tr>\n",
              "      <th>110770</th>\n",
              "      <td>110771</td>\n",
              "      <td>AAHNA E MALL OneBlade Hybrid Trimmer Shaver An...</td>\n",
              "      <td>&lt;p&gt;1-All In One Hyper Advanced Smart Rechargea...</td>\n",
              "      <td>[Unique One Blade can style, trim and shave, w...</td>\n",
              "      <td>Generic</td>\n",
              "    </tr>\n",
              "    <tr>\n",
              "      <th>110771</th>\n",
              "      <td>110772</td>\n",
              "      <td>Grin Health N99 Anti Pollution Reusable Washab...</td>\n",
              "      <td>&lt;p&gt;SIZE GUIDE : M - (35- 65 Kg), L - (49- 72 K...</td>\n",
              "      <td>[PROTECTION: Filtration rate up to ≥99 percent...</td>\n",
              "      <td>Grin Health</td>\n",
              "    </tr>\n",
              "    <tr>\n",
              "      <th>110772</th>\n",
              "      <td>110773</td>\n",
              "      <td>Asian Army Pink Ultra reusable respirator clot...</td>\n",
              "      <td>Asian HyperProtect A95 masks have been enginee...</td>\n",
              "      <td>[Reusable and environment friendly: These mask...</td>\n",
              "      <td>ASIAN</td>\n",
              "    </tr>\n",
              "    <tr>\n",
              "      <th>110773</th>\n",
              "      <td>110774</td>\n",
              "      <td>IM Safe 3 Ply Non-Woven Disposable Surgical Fa...</td>\n",
              "      <td>This 3 Ply Disposable face mask is manufacture...</td>\n",
              "      <td>[3 Ply Mask: Genuine 3 Ply Mask. 25 GSM Spun B...</td>\n",
              "      <td>Intermarket</td>\n",
              "    </tr>\n",
              "    <tr>\n",
              "      <th>110774</th>\n",
              "      <td>110775</td>\n",
              "      <td>Artifie 100% Cotton Unisex Reusable Breathable...</td>\n",
              "      <td>Material : Cotton Printed, cotton thread, Soft...</td>\n",
              "      <td>[Eco Friendly, Reusable Cotton Masks for Face ...</td>\n",
              "      <td>Artifie</td>\n",
              "    </tr>\n",
              "  </tbody>\n",
              "</table>\n",
              "<p>110775 rows × 5 columns</p>\n",
              "</div>"
            ],
            "text/plain": [
              "        PRODUCT_ID  ...           BRAND\n",
              "0                1  ...         Command\n",
              "1                2  ...          O'Neal\n",
              "2                3  ...  Boelter Brands\n",
              "3                4  ...       Panasonic\n",
              "4                5  ...            Zero\n",
              "...            ...  ...             ...\n",
              "110770      110771  ...         Generic\n",
              "110771      110772  ...     Grin Health\n",
              "110772      110773  ...           ASIAN\n",
              "110773      110774  ...     Intermarket\n",
              "110774      110775  ...         Artifie\n",
              "\n",
              "[110775 rows x 5 columns]"
            ]
          },
          "metadata": {
            "tags": []
          },
          "execution_count": 17
        }
      ]
    },
    {
      "cell_type": "code",
      "metadata": {
        "id": "ooYqBRF5_i4Z"
      },
      "source": [
        "sample_submission = pd.read_csv('/content/amazon_contest/dataset/sample_submission.csv',escapechar = \"\\\\\" , quoting=3)"
      ],
      "execution_count": null,
      "outputs": []
    },
    {
      "cell_type": "code",
      "metadata": {
        "colab": {
          "base_uri": "https://localhost:8080/",
          "height": 203
        },
        "id": "26qboeuX_oej",
        "outputId": "801b0398-0773-47ab-9597-9cfe8dad1afb"
      },
      "source": [
        "sample_submission"
      ],
      "execution_count": null,
      "outputs": [
        {
          "output_type": "execute_result",
          "data": {
            "text/html": [
              "<div>\n",
              "<style scoped>\n",
              "    .dataframe tbody tr th:only-of-type {\n",
              "        vertical-align: middle;\n",
              "    }\n",
              "\n",
              "    .dataframe tbody tr th {\n",
              "        vertical-align: top;\n",
              "    }\n",
              "\n",
              "    .dataframe thead th {\n",
              "        text-align: right;\n",
              "    }\n",
              "</style>\n",
              "<table border=\"1\" class=\"dataframe\">\n",
              "  <thead>\n",
              "    <tr style=\"text-align: right;\">\n",
              "      <th></th>\n",
              "      <th>PRODUCT_ID</th>\n",
              "      <th>BROWSE_NODE_ID</th>\n",
              "    </tr>\n",
              "  </thead>\n",
              "  <tbody>\n",
              "    <tr>\n",
              "      <th>0</th>\n",
              "      <td>1</td>\n",
              "      <td>0</td>\n",
              "    </tr>\n",
              "    <tr>\n",
              "      <th>1</th>\n",
              "      <td>2</td>\n",
              "      <td>1</td>\n",
              "    </tr>\n",
              "    <tr>\n",
              "      <th>2</th>\n",
              "      <td>3</td>\n",
              "      <td>2</td>\n",
              "    </tr>\n",
              "    <tr>\n",
              "      <th>3</th>\n",
              "      <td>4</td>\n",
              "      <td>3</td>\n",
              "    </tr>\n",
              "    <tr>\n",
              "      <th>4</th>\n",
              "      <td>5</td>\n",
              "      <td>4</td>\n",
              "    </tr>\n",
              "  </tbody>\n",
              "</table>\n",
              "</div>"
            ],
            "text/plain": [
              "   PRODUCT_ID  BROWSE_NODE_ID\n",
              "0           1               0\n",
              "1           2               1\n",
              "2           3               2\n",
              "3           4               3\n",
              "4           5               4"
            ]
          },
          "metadata": {
            "tags": []
          },
          "execution_count": 20
        }
      ]
    },
    {
      "cell_type": "code",
      "metadata": {
        "colab": {
          "base_uri": "https://localhost:8080/"
        },
        "id": "9FEKle3PmHxD",
        "outputId": "d25e5b83-b428-4bfd-bd8d-3f027b2d5f2e"
      },
      "source": [
        "trainData.isna().sum()"
      ],
      "execution_count": null,
      "outputs": [
        {
          "output_type": "execute_result",
          "data": {
            "text/plain": [
              "TITLE                 71\n",
              "DESCRIPTION       723664\n",
              "BULLET_POINTS     166263\n",
              "BRAND              56737\n",
              "BROWSE_NODE_ID         0\n",
              "dtype: int64"
            ]
          },
          "metadata": {
            "tags": []
          },
          "execution_count": 21
        }
      ]
    },
    {
      "cell_type": "code",
      "metadata": {
        "colab": {
          "base_uri": "https://localhost:8080/"
        },
        "id": "7CUzu1vWrr4A",
        "outputId": "4f1f49bf-6434-4cd7-9379-5d5d28d7f79d"
      },
      "source": [
        "testData.isna().sum()"
      ],
      "execution_count": null,
      "outputs": [
        {
          "output_type": "execute_result",
          "data": {
            "text/plain": [
              "PRODUCT_ID           0\n",
              "TITLE                7\n",
              "DESCRIPTION      10469\n",
              "BULLET_POINTS     6786\n",
              "BRAND             2430\n",
              "dtype: int64"
            ]
          },
          "metadata": {
            "tags": []
          },
          "execution_count": 22
        }
      ]
    },
    {
      "cell_type": "code",
      "metadata": {
        "id": "_1T8bYwxmGby"
      },
      "source": [
        "trainData.dropna(inplace=True)"
      ],
      "execution_count": null,
      "outputs": []
    },
    {
      "cell_type": "code",
      "metadata": {
        "id": "K2-5KHtmYJJ2"
      },
      "source": [
        "testData.dropna(inplace=True)"
      ],
      "execution_count": null,
      "outputs": []
    },
    {
      "cell_type": "code",
      "metadata": {
        "colab": {
          "base_uri": "https://localhost:8080/"
        },
        "id": "GDGHdx2j0Gmg",
        "outputId": "09c378a9-c15b-4ec4-93c7-755efb7745c1"
      },
      "source": [
        "trainData.shape"
      ],
      "execution_count": null,
      "outputs": [
        {
          "output_type": "execute_result",
          "data": {
            "text/plain": [
              "(2110586, 5)"
            ]
          },
          "metadata": {
            "tags": []
          },
          "execution_count": 24
        }
      ]
    },
    {
      "cell_type": "markdown",
      "metadata": {
        "id": "G8GUhWN_05c3"
      },
      "source": [
        "# Data Cleaning"
      ]
    },
    {
      "cell_type": "markdown",
      "metadata": {
        "id": "0ivo4OzH9ruQ"
      },
      "source": [
        "**Removing HTML tags**"
      ]
    },
    {
      "cell_type": "code",
      "metadata": {
        "id": "gUP5_ocP0MG3"
      },
      "source": [
        "def removeHTML(text):\n",
        "    html_pattern = re.compile('<.*?>')\n",
        "    return html_pattern.sub(r'', text)"
      ],
      "execution_count": null,
      "outputs": []
    },
    {
      "cell_type": "markdown",
      "metadata": {
        "id": "FUzMjOn2-CEw"
      },
      "source": [
        "**Removing Punctuations**"
      ]
    },
    {
      "cell_type": "code",
      "metadata": {
        "id": "SQSWRLfg2aMV"
      },
      "source": [
        "def removePunctuation(text):\n",
        "    return text.translate(str.maketrans('', '', string.punctuation))"
      ],
      "execution_count": null,
      "outputs": []
    },
    {
      "cell_type": "code",
      "metadata": {
        "colab": {
          "base_uri": "https://localhost:8080/"
        },
        "id": "7vwfw-DR4CPe",
        "outputId": "0ca691d8-de77-4cd1-abb8-4022494b6506"
      },
      "source": [
        "nltk.download('stopwords')"
      ],
      "execution_count": null,
      "outputs": [
        {
          "output_type": "stream",
          "text": [
            "[nltk_data] Downloading package stopwords to /root/nltk_data...\n",
            "[nltk_data]   Unzipping corpora/stopwords.zip.\n"
          ],
          "name": "stdout"
        },
        {
          "output_type": "execute_result",
          "data": {
            "text/plain": [
              "True"
            ]
          },
          "metadata": {
            "tags": []
          },
          "execution_count": 27
        }
      ]
    },
    {
      "cell_type": "code",
      "metadata": {
        "colab": {
          "base_uri": "https://localhost:8080/"
        },
        "id": "LSGByT5t-Up9",
        "outputId": "fe8feb7f-5894-43b2-df8d-835b58e5389f"
      },
      "source": [
        "nltk.download('averaged_perceptron_tagger')"
      ],
      "execution_count": null,
      "outputs": [
        {
          "output_type": "stream",
          "text": [
            "[nltk_data] Downloading package averaged_perceptron_tagger to\n",
            "[nltk_data]     /root/nltk_data...\n",
            "[nltk_data]   Unzipping taggers/averaged_perceptron_tagger.zip.\n"
          ],
          "name": "stdout"
        },
        {
          "output_type": "execute_result",
          "data": {
            "text/plain": [
              "True"
            ]
          },
          "metadata": {
            "tags": []
          },
          "execution_count": 28
        }
      ]
    },
    {
      "cell_type": "markdown",
      "metadata": {
        "id": "LYC9uCXn-fdM"
      },
      "source": [
        "**Removing Stopwords**"
      ]
    },
    {
      "cell_type": "code",
      "metadata": {
        "id": "FDFPBClg21i5"
      },
      "source": [
        "stopwards = set(stopwords.words('english'))\n",
        "def removeStopwords(text):\n",
        "    return \" \".join([word for word in str(text).split() if word not in stopwards])\n"
      ],
      "execution_count": null,
      "outputs": []
    },
    {
      "cell_type": "code",
      "metadata": {
        "id": "MumtAo9a4JP3"
      },
      "source": [
        "def lowerCasing(text):\n",
        "  return text.lower()"
      ],
      "execution_count": null,
      "outputs": []
    },
    {
      "cell_type": "code",
      "metadata": {
        "colab": {
          "base_uri": "https://localhost:8080/"
        },
        "id": "HNDgFWdX6bQ1",
        "outputId": "bc94fc56-d5f0-4320-cca5-01b9a3bb3354"
      },
      "source": [
        "nltk.download('wordnet')"
      ],
      "execution_count": null,
      "outputs": [
        {
          "output_type": "stream",
          "text": [
            "[nltk_data] Downloading package wordnet to /root/nltk_data...\n",
            "[nltk_data]   Unzipping corpora/wordnet.zip.\n"
          ],
          "name": "stdout"
        },
        {
          "output_type": "execute_result",
          "data": {
            "text/plain": [
              "True"
            ]
          },
          "metadata": {
            "tags": []
          },
          "execution_count": 31
        }
      ]
    },
    {
      "cell_type": "code",
      "metadata": {
        "id": "nH38TGxpVM9a"
      },
      "source": [
        "from nltk.stem.porter import PorterStemmer"
      ],
      "execution_count": null,
      "outputs": []
    },
    {
      "cell_type": "code",
      "metadata": {
        "id": "jFLl4Rsx5Mpr"
      },
      "source": [
        "stemmer = PorterStemmer()\n",
        "def stemWords(text):\n",
        "    return \" \".join([stemmer.stem(word) for word in text.split()])"
      ],
      "execution_count": null,
      "outputs": []
    },
    {
      "cell_type": "code",
      "metadata": {
        "colab": {
          "base_uri": "https://localhost:8080/"
        },
        "id": "ERC9MgIN6xvd",
        "outputId": "dff7747f-ec16-4e34-a165-2bb1a35c0bb7"
      },
      "source": [
        "trainData.columns,testData.columns"
      ],
      "execution_count": null,
      "outputs": [
        {
          "output_type": "execute_result",
          "data": {
            "text/plain": [
              "(Index(['TITLE', 'DESCRIPTION', 'BULLET_POINTS', 'BRAND', 'BROWSE_NODE_ID'], dtype='object'),\n",
              " Index(['PRODUCT_ID', 'TITLE', 'DESCRIPTION', 'BULLET_POINTS', 'BRAND'], dtype='object'))"
            ]
          },
          "metadata": {
            "tags": []
          },
          "execution_count": 34
        }
      ]
    },
    {
      "cell_type": "code",
      "metadata": {
        "id": "5ZALgLLl6oP_"
      },
      "source": [
        "def processAll(col):\n",
        "  col = col.apply(lambda text: removeHTML(text))\n",
        "  col = col.apply(lambda text: removePunctuation(text))\n",
        "  col = col.apply(lambda text: removeStopwords(text))\n",
        "  col = col.apply(lambda text: lowerCasing(text))\n",
        "  col = col.apply(lambda text: stemWords(text))\n",
        "  return col"
      ],
      "execution_count": null,
      "outputs": []
    },
    {
      "cell_type": "code",
      "metadata": {
        "id": "kDNFH3zn8sUo"
      },
      "source": [
        "def preProcessingAllColumns(df):\n",
        "  df['TITLE']=processAll(df['TITLE'])\n",
        "  df['DESCRIPTION']=processAll(df['DESCRIPTION'])\n",
        "  df['BULLET_POINTS']=processAll(df['BULLET_POINTS'])\n",
        "  return df"
      ],
      "execution_count": null,
      "outputs": []
    },
    {
      "cell_type": "code",
      "metadata": {
        "id": "U2VMSTUI9LSr"
      },
      "source": [
        "preProcessingAllColumns(trainData)"
      ],
      "execution_count": null,
      "outputs": []
    },
    {
      "cell_type": "code",
      "metadata": {
        "colab": {
          "base_uri": "https://localhost:8080/",
          "height": 585
        },
        "id": "RlaWa0noXn7s",
        "outputId": "01dba868-a441-4792-9cd7-5ae0f03f5248"
      },
      "source": [
        "preProcessingAllColumns(testData)"
      ],
      "execution_count": null,
      "outputs": [
        {
          "output_type": "execute_result",
          "data": {
            "text/html": [
              "<div>\n",
              "<style scoped>\n",
              "    .dataframe tbody tr th:only-of-type {\n",
              "        vertical-align: middle;\n",
              "    }\n",
              "\n",
              "    .dataframe tbody tr th {\n",
              "        vertical-align: top;\n",
              "    }\n",
              "\n",
              "    .dataframe thead th {\n",
              "        text-align: right;\n",
              "    }\n",
              "</style>\n",
              "<table border=\"1\" class=\"dataframe\">\n",
              "  <thead>\n",
              "    <tr style=\"text-align: right;\">\n",
              "      <th></th>\n",
              "      <th>PRODUCT_ID</th>\n",
              "      <th>TITLE</th>\n",
              "      <th>DESCRIPTION</th>\n",
              "      <th>BULLET_POINTS</th>\n",
              "      <th>BRAND</th>\n",
              "    </tr>\n",
              "  </thead>\n",
              "  <tbody>\n",
              "    <tr>\n",
              "      <th>0</th>\n",
              "      <td>1</td>\n",
              "      <td>command 3m small kitchen hook white decor dama...</td>\n",
              "      <td>sale unit pack</td>\n",
              "      <td>includ 9 hook 12 small indoor strip 1 hook hol...</td>\n",
              "      <td>Command</td>\n",
              "    </tr>\n",
              "    <tr>\n",
              "      <th>1</th>\n",
              "      <td>2</td>\n",
              "      <td>oneal jump hardwar jag unisexadult glove black...</td>\n",
              "      <td>synthet leather palm doublelay thumb reinforc ...</td>\n",
              "      <td>silicon print better grip long last flexibl ma...</td>\n",
              "      <td>O'Neal</td>\n",
              "    </tr>\n",
              "    <tr>\n",
              "      <th>2</th>\n",
              "      <td>3</td>\n",
              "      <td>nfl detroit lion portabl parti fridg 158 quart</td>\n",
              "      <td>boelter brand let celebr favorit popcultur phe...</td>\n",
              "      <td>run 12 volt dc power 110 volt ac power plug ho...</td>\n",
              "      <td>Boelter Brands</td>\n",
              "    </tr>\n",
              "    <tr>\n",
              "      <th>3</th>\n",
              "      <td>4</td>\n",
              "      <td>panason singl line kxts880mx cord phone white</td>\n",
              "      <td>featur 50 station phonebook cord phone alphanu...</td>\n",
              "      <td>panason landlin phone doesnt come manufactur s...</td>\n",
              "      <td>Panasonic</td>\n",
              "    </tr>\n",
              "    <tr>\n",
              "      <th>4</th>\n",
              "      <td>5</td>\n",
              "      <td>zero babi girl 100 cotton innerwear bloomer dr...</td>\n",
              "      <td>zero babi girl panti set 100 cotton breathabl ...</td>\n",
              "      <td>zero babi girl panti pack 6 100 cotton for bab...</td>\n",
              "      <td>Zero</td>\n",
              "    </tr>\n",
              "    <tr>\n",
              "      <th>...</th>\n",
              "      <td>...</td>\n",
              "      <td>...</td>\n",
              "      <td>...</td>\n",
              "      <td>...</td>\n",
              "      <td>...</td>\n",
              "    </tr>\n",
              "    <tr>\n",
              "      <th>110770</th>\n",
              "      <td>110771</td>\n",
              "      <td>aahna e mall oneblad hybrid trimmer shaver and...</td>\n",
              "      <td>1all in one hyper advanc smart recharg razor f...</td>\n",
              "      <td>uniqu one blade style trim shave keep skin fee...</td>\n",
              "      <td>Generic</td>\n",
              "    </tr>\n",
              "    <tr>\n",
              "      <th>110771</th>\n",
              "      <td>110772</td>\n",
              "      <td>grin health n99 anti pollut reusabl washabl ma...</td>\n",
              "      <td>size guid m 35 65 kg l 49 72 kg xl 75 kg new n...</td>\n",
              "      <td>protect filtrat rate ≥99 percent small pm03 us...</td>\n",
              "      <td>Grin Health</td>\n",
              "    </tr>\n",
              "    <tr>\n",
              "      <th>110772</th>\n",
              "      <td>110773</td>\n",
              "      <td>asian armi pink ultra reusabl respir cloth mas...</td>\n",
              "      <td>asian hyperprotect a95 mask engin 6layer tripl...</td>\n",
              "      <td>reusabl environ friendli these mask washabl re...</td>\n",
              "      <td>ASIAN</td>\n",
              "    </tr>\n",
              "    <tr>\n",
              "      <th>110773</th>\n",
              "      <td>110774</td>\n",
              "      <td>im safe 3 pli nonwoven dispos surgic face mask...</td>\n",
              "      <td>thi 3 pli dispos face mask manufactur use sitr...</td>\n",
              "      <td>3 pli mask genuin 3 pli mask 25 gsm spun bond ...</td>\n",
              "      <td>Intermarket</td>\n",
              "    </tr>\n",
              "    <tr>\n",
              "      <th>110774</th>\n",
              "      <td>110775</td>\n",
              "      <td>artifi 100 cotton unisex reusabl breathabl was...</td>\n",
              "      <td>materi cotton print cotton thread soft stretch...</td>\n",
              "      <td>eco friendli reusabl cotton mask face ajrak co...</td>\n",
              "      <td>Artifie</td>\n",
              "    </tr>\n",
              "  </tbody>\n",
              "</table>\n",
              "<p>97793 rows × 5 columns</p>\n",
              "</div>"
            ],
            "text/plain": [
              "        PRODUCT_ID  ...           BRAND\n",
              "0                1  ...         Command\n",
              "1                2  ...          O'Neal\n",
              "2                3  ...  Boelter Brands\n",
              "3                4  ...       Panasonic\n",
              "4                5  ...            Zero\n",
              "...            ...  ...             ...\n",
              "110770      110771  ...         Generic\n",
              "110771      110772  ...     Grin Health\n",
              "110772      110773  ...           ASIAN\n",
              "110773      110774  ...     Intermarket\n",
              "110774      110775  ...         Artifie\n",
              "\n",
              "[97793 rows x 5 columns]"
            ]
          },
          "metadata": {
            "tags": []
          },
          "execution_count": 42
        }
      ]
    },
    {
      "cell_type": "code",
      "metadata": {
        "colab": {
          "base_uri": "https://localhost:8080/",
          "height": 493
        },
        "id": "eDvmjM1rU1_6",
        "outputId": "cc090640-8ba5-4d5f-8392-5fb5dc4e651c"
      },
      "source": [
        "trainData"
      ],
      "execution_count": null,
      "outputs": [
        {
          "output_type": "execute_result",
          "data": {
            "text/html": [
              "<div>\n",
              "<style scoped>\n",
              "    .dataframe tbody tr th:only-of-type {\n",
              "        vertical-align: middle;\n",
              "    }\n",
              "\n",
              "    .dataframe tbody tr th {\n",
              "        vertical-align: top;\n",
              "    }\n",
              "\n",
              "    .dataframe thead th {\n",
              "        text-align: right;\n",
              "    }\n",
              "</style>\n",
              "<table border=\"1\" class=\"dataframe\">\n",
              "  <thead>\n",
              "    <tr style=\"text-align: right;\">\n",
              "      <th></th>\n",
              "      <th>TITLE</th>\n",
              "      <th>DESCRIPTION</th>\n",
              "      <th>BULLET_POINTS</th>\n",
              "      <th>BRAND</th>\n",
              "      <th>BROWSE_NODE_ID</th>\n",
              "    </tr>\n",
              "  </thead>\n",
              "  <tbody>\n",
              "    <tr>\n",
              "      <th>0</th>\n",
              "      <td>pete the cat bedtime blues doll 145 inch</td>\n",
              "      <td>pete cat coolest popular cat town the new pete...</td>\n",
              "      <td>pete cat bedtime blues plush dollbased popular...</td>\n",
              "      <td>MerryMakers</td>\n",
              "      <td>0</td>\n",
              "    </tr>\n",
              "    <tr>\n",
              "      <th>1</th>\n",
              "      <td>the new yorker nyhm014 refrigerator magnet 2 x 35</td>\n",
              "      <td>the new yorker handsome cello wrapped hard mag...</td>\n",
              "      <td>cat in a tea cup new yorker cover artist gurbu...</td>\n",
              "      <td>The New Yorker</td>\n",
              "      <td>1</td>\n",
              "    </tr>\n",
              "    <tr>\n",
              "      <th>5</th>\n",
              "      <td>mens full sleeve raglan tshirts denim tshirt m...</td>\n",
              "      <td>mens full sleeve raglan tshirts denim tshirt m...</td>\n",
              "      <td>color bluesleeve full sleevematerial cottonnec...</td>\n",
              "      <td>Bhavya Enterprise</td>\n",
              "      <td>5</td>\n",
              "    </tr>\n",
              "    <tr>\n",
              "      <th>6</th>\n",
              "      <td>glance womens wallet black lw21</td>\n",
              "      <td>this black wallet glance treasured addition ac...</td>\n",
              "      <td>the most comfortable womens wallet that you wo...</td>\n",
              "      <td>Glance</td>\n",
              "      <td>6</td>\n",
              "    </tr>\n",
              "    <tr>\n",
              "      <th>7</th>\n",
              "      <td>wild animals hungry brain educational flash ca...</td>\n",
              "      <td>wild animals animals mostly stays forest requi...</td>\n",
              "      <td>playful learning flash cards develops love lea...</td>\n",
              "      <td>hungry brain</td>\n",
              "      <td>7</td>\n",
              "    </tr>\n",
              "    <tr>\n",
              "      <th>...</th>\n",
              "      <td>...</td>\n",
              "      <td>...</td>\n",
              "      <td>...</td>\n",
              "      <td>...</td>\n",
              "      <td>...</td>\n",
              "    </tr>\n",
              "    <tr>\n",
              "      <th>2903018</th>\n",
              "      <td>the nxt lvl liquid silicone soft back cover ca...</td>\n",
              "      <td>product color may slightly vary due photograph...</td>\n",
              "      <td>liquid silicone case compatible apple pro made...</td>\n",
              "      <td>Generic</td>\n",
              "      <td>794481</td>\n",
              "    </tr>\n",
              "    <tr>\n",
              "      <th>2903019</th>\n",
              "      <td>premium aviator sunglasses hd polarized bright...</td>\n",
              "      <td>these premium aviator sunglasses 5 color optio...</td>\n",
              "      <td>frame size lens height 56mm lens width 58 mm n...</td>\n",
              "      <td>Generic</td>\n",
              "      <td>1040</td>\n",
              "    </tr>\n",
              "    <tr>\n",
              "      <th>2903020</th>\n",
              "      <td>social distance stickers set 5 sticker slip re...</td>\n",
              "      <td>set 5 prints social distancing sticker self ad...</td>\n",
              "      <td>covid19 safety sticker set 5 maintain crowd co...</td>\n",
              "      <td>Generic</td>\n",
              "      <td>15199</td>\n",
              "    </tr>\n",
              "    <tr>\n",
              "      <th>2903021</th>\n",
              "      <td>torrto face shield pack of 5 adjustable elasti...</td>\n",
              "      <td>complete face protection torrto face shield ef...</td>\n",
              "      <td>350 microns pack of 5 pcscomplete face protect...</td>\n",
              "      <td>TORR-TO</td>\n",
              "      <td>1044933</td>\n",
              "    </tr>\n",
              "    <tr>\n",
              "      <th>2903022</th>\n",
              "      <td>typec 35 mm oppo r17 pro typec 35 mm audio jac...</td>\n",
              "      <td>still want use favorite earphonesheadphones le...</td>\n",
              "      <td>indian connectors made indian sockets wall cha...</td>\n",
              "      <td>SHOPBELL</td>\n",
              "      <td>14790</td>\n",
              "    </tr>\n",
              "  </tbody>\n",
              "</table>\n",
              "<p>2110586 rows × 5 columns</p>\n",
              "</div>"
            ],
            "text/plain": [
              "                                                     TITLE  ... BROWSE_NODE_ID\n",
              "0                 pete the cat bedtime blues doll 145 inch  ...              0\n",
              "1        the new yorker nyhm014 refrigerator magnet 2 x 35  ...              1\n",
              "5        mens full sleeve raglan tshirts denim tshirt m...  ...              5\n",
              "6                          glance womens wallet black lw21  ...              6\n",
              "7        wild animals hungry brain educational flash ca...  ...              7\n",
              "...                                                    ...  ...            ...\n",
              "2903018  the nxt lvl liquid silicone soft back cover ca...  ...         794481\n",
              "2903019  premium aviator sunglasses hd polarized bright...  ...           1040\n",
              "2903020  social distance stickers set 5 sticker slip re...  ...          15199\n",
              "2903021  torrto face shield pack of 5 adjustable elasti...  ...        1044933\n",
              "2903022  typec 35 mm oppo r17 pro typec 35 mm audio jac...  ...          14790\n",
              "\n",
              "[2110586 rows x 5 columns]"
            ]
          },
          "metadata": {
            "tags": []
          },
          "execution_count": 27
        }
      ]
    },
    {
      "cell_type": "code",
      "metadata": {
        "colab": {
          "base_uri": "https://localhost:8080/",
          "height": 585
        },
        "id": "bHC7TthtZIhU",
        "outputId": "c4862966-e73e-493c-8c44-88818a16ef11"
      },
      "source": [
        "testData"
      ],
      "execution_count": null,
      "outputs": [
        {
          "output_type": "execute_result",
          "data": {
            "text/html": [
              "<div>\n",
              "<style scoped>\n",
              "    .dataframe tbody tr th:only-of-type {\n",
              "        vertical-align: middle;\n",
              "    }\n",
              "\n",
              "    .dataframe tbody tr th {\n",
              "        vertical-align: top;\n",
              "    }\n",
              "\n",
              "    .dataframe thead th {\n",
              "        text-align: right;\n",
              "    }\n",
              "</style>\n",
              "<table border=\"1\" class=\"dataframe\">\n",
              "  <thead>\n",
              "    <tr style=\"text-align: right;\">\n",
              "      <th></th>\n",
              "      <th>PRODUCT_ID</th>\n",
              "      <th>TITLE</th>\n",
              "      <th>DESCRIPTION</th>\n",
              "      <th>BULLET_POINTS</th>\n",
              "      <th>BRAND</th>\n",
              "    </tr>\n",
              "  </thead>\n",
              "  <tbody>\n",
              "    <tr>\n",
              "      <th>0</th>\n",
              "      <td>1</td>\n",
              "      <td>command 3m small kitchen hook white decor dama...</td>\n",
              "      <td>sale unit pack</td>\n",
              "      <td>includ 9 hook 12 small indoor strip 1 hook hol...</td>\n",
              "      <td>Command</td>\n",
              "    </tr>\n",
              "    <tr>\n",
              "      <th>1</th>\n",
              "      <td>2</td>\n",
              "      <td>oneal jump hardwar jag unisexadult glove black...</td>\n",
              "      <td>synthet leather palm doublelay thumb reinforc ...</td>\n",
              "      <td>silicon print better grip long last flexibl ma...</td>\n",
              "      <td>O'Neal</td>\n",
              "    </tr>\n",
              "    <tr>\n",
              "      <th>2</th>\n",
              "      <td>3</td>\n",
              "      <td>nfl detroit lion portabl parti fridg 158 quart</td>\n",
              "      <td>boelter brand let celebr favorit popcultur phe...</td>\n",
              "      <td>run 12 volt dc power 110 volt ac power plug ho...</td>\n",
              "      <td>Boelter Brands</td>\n",
              "    </tr>\n",
              "    <tr>\n",
              "      <th>3</th>\n",
              "      <td>4</td>\n",
              "      <td>panason singl line kxts880mx cord phone white</td>\n",
              "      <td>featur 50 station phonebook cord phone alphanu...</td>\n",
              "      <td>panason landlin phone doesnt come manufactur s...</td>\n",
              "      <td>Panasonic</td>\n",
              "    </tr>\n",
              "    <tr>\n",
              "      <th>4</th>\n",
              "      <td>5</td>\n",
              "      <td>zero babi girl 100 cotton innerwear bloomer dr...</td>\n",
              "      <td>zero babi girl panti set 100 cotton breathabl ...</td>\n",
              "      <td>zero babi girl panti pack 6 100 cotton for bab...</td>\n",
              "      <td>Zero</td>\n",
              "    </tr>\n",
              "    <tr>\n",
              "      <th>...</th>\n",
              "      <td>...</td>\n",
              "      <td>...</td>\n",
              "      <td>...</td>\n",
              "      <td>...</td>\n",
              "      <td>...</td>\n",
              "    </tr>\n",
              "    <tr>\n",
              "      <th>110770</th>\n",
              "      <td>110771</td>\n",
              "      <td>aahna e mall oneblad hybrid trimmer shaver and...</td>\n",
              "      <td>1all in one hyper advanc smart recharg razor f...</td>\n",
              "      <td>uniqu one blade style trim shave keep skin fee...</td>\n",
              "      <td>Generic</td>\n",
              "    </tr>\n",
              "    <tr>\n",
              "      <th>110771</th>\n",
              "      <td>110772</td>\n",
              "      <td>grin health n99 anti pollut reusabl washabl ma...</td>\n",
              "      <td>size guid m 35 65 kg l 49 72 kg xl 75 kg new n...</td>\n",
              "      <td>protect filtrat rate ≥99 percent small pm03 us...</td>\n",
              "      <td>Grin Health</td>\n",
              "    </tr>\n",
              "    <tr>\n",
              "      <th>110772</th>\n",
              "      <td>110773</td>\n",
              "      <td>asian armi pink ultra reusabl respir cloth mas...</td>\n",
              "      <td>asian hyperprotect a95 mask engin 6layer tripl...</td>\n",
              "      <td>reusabl environ friendli these mask washabl re...</td>\n",
              "      <td>ASIAN</td>\n",
              "    </tr>\n",
              "    <tr>\n",
              "      <th>110773</th>\n",
              "      <td>110774</td>\n",
              "      <td>im safe 3 pli nonwoven dispos surgic face mask...</td>\n",
              "      <td>thi 3 pli dispos face mask manufactur use sitr...</td>\n",
              "      <td>3 pli mask genuin 3 pli mask 25 gsm spun bond ...</td>\n",
              "      <td>Intermarket</td>\n",
              "    </tr>\n",
              "    <tr>\n",
              "      <th>110774</th>\n",
              "      <td>110775</td>\n",
              "      <td>artifi 100 cotton unisex reusabl breathabl was...</td>\n",
              "      <td>materi cotton print cotton thread soft stretch...</td>\n",
              "      <td>eco friendli reusabl cotton mask face ajrak co...</td>\n",
              "      <td>Artifie</td>\n",
              "    </tr>\n",
              "  </tbody>\n",
              "</table>\n",
              "<p>97793 rows × 5 columns</p>\n",
              "</div>"
            ],
            "text/plain": [
              "        PRODUCT_ID  ...           BRAND\n",
              "0                1  ...         Command\n",
              "1                2  ...          O'Neal\n",
              "2                3  ...  Boelter Brands\n",
              "3                4  ...       Panasonic\n",
              "4                5  ...            Zero\n",
              "...            ...  ...             ...\n",
              "110770      110771  ...         Generic\n",
              "110771      110772  ...     Grin Health\n",
              "110772      110773  ...           ASIAN\n",
              "110773      110774  ...     Intermarket\n",
              "110774      110775  ...         Artifie\n",
              "\n",
              "[97793 rows x 5 columns]"
            ]
          },
          "metadata": {
            "tags": []
          },
          "execution_count": 43
        }
      ]
    },
    {
      "cell_type": "code",
      "metadata": {
        "id": "KB_zfBRb1FoV"
      },
      "source": [
        "trainData.reset_index(inplace=True)"
      ],
      "execution_count": null,
      "outputs": []
    },
    {
      "cell_type": "code",
      "metadata": {
        "colab": {
          "base_uri": "https://localhost:8080/"
        },
        "id": "pylv2ZTY12JH",
        "outputId": "3741375a-a3d3-42fc-c6ad-1da0e96d0553"
      },
      "source": [
        "trainData.head()['TITLE']"
      ],
      "execution_count": null,
      "outputs": [
        {
          "output_type": "execute_result",
          "data": {
            "text/plain": [
              "0             pete the cat bedtime blues doll 145 inch\n",
              "1    the new yorker nyhm014 refrigerator magnet 2 x 35\n",
              "2    mens full sleeve raglan tshirts denim tshirt m...\n",
              "3                      glance womens wallet black lw21\n",
              "4    wild animals hungry brain educational flash ca...\n",
              "Name: TITLE, dtype: object"
            ]
          },
          "metadata": {
            "tags": []
          },
          "execution_count": 38
        }
      ]
    },
    {
      "cell_type": "code",
      "metadata": {
        "id": "1O9YRLvgZbmN"
      },
      "source": [
        "y_train = trainData['BROWSE_NODE_ID']"
      ],
      "execution_count": null,
      "outputs": []
    },
    {
      "cell_type": "code",
      "metadata": {
        "id": "hPzLBjdUkVms"
      },
      "source": [
        "X_train = trainData.drop('BROWSE_NODE_ID', axis = 1)"
      ],
      "execution_count": null,
      "outputs": []
    },
    {
      "cell_type": "code",
      "metadata": {
        "colab": {
          "base_uri": "https://localhost:8080/"
        },
        "id": "Tt1s3kdfjEmI",
        "outputId": "196d83d8-03eb-4a4e-8659-c6a4c03720b8"
      },
      "source": [
        "X_train, y_train"
      ],
      "execution_count": null,
      "outputs": [
        {
          "output_type": "execute_result",
          "data": {
            "text/plain": [
              "(                                                     TITLE  ...              BRAND\n",
              " 0                 pete the cat bedtime blues doll 145 inch  ...        MerryMakers\n",
              " 1        the new yorker nyhm014 refrigerator magnet 2 x 35  ...     The New Yorker\n",
              " 5        mens full sleeve raglan tshirts denim tshirt m...  ...  Bhavya Enterprise\n",
              " 6                          glance womens wallet black lw21  ...             Glance\n",
              " 7        wild animals hungry brain educational flash ca...  ...       hungry brain\n",
              " ...                                                    ...  ...                ...\n",
              " 2903018  the nxt lvl liquid silicone soft back cover ca...  ...            Generic\n",
              " 2903019  premium aviator sunglasses hd polarized bright...  ...            Generic\n",
              " 2903020  social distance stickers set 5 sticker slip re...  ...            Generic\n",
              " 2903021  torrto face shield pack of 5 adjustable elasti...  ...            TORR-TO\n",
              " 2903022  typec 35 mm oppo r17 pro typec 35 mm audio jac...  ...           SHOPBELL\n",
              " \n",
              " [2110586 rows x 4 columns], 0                0\n",
              " 1                1\n",
              " 5                5\n",
              " 6                6\n",
              " 7                7\n",
              "             ...   \n",
              " 2903018     794481\n",
              " 2903019       1040\n",
              " 2903020      15199\n",
              " 2903021    1044933\n",
              " 2903022      14790\n",
              " Name: BROWSE_NODE_ID, Length: 2110586, dtype: int64)"
            ]
          },
          "metadata": {
            "tags": []
          },
          "execution_count": 30
        }
      ]
    },
    {
      "cell_type": "code",
      "metadata": {
        "id": "cL7cxq1nmQGD"
      },
      "source": [
        "X_test = testData.drop('PRODUCT_ID', axis =1)\n",
        "y_test = testData['PRODUCT_ID']"
      ],
      "execution_count": null,
      "outputs": []
    },
    {
      "cell_type": "code",
      "metadata": {
        "id": "l2VlHtcCZRVH"
      },
      "source": [
        "# y_train_browse_node = testData['BROWSE_NODE_ID']"
      ],
      "execution_count": null,
      "outputs": []
    },
    {
      "cell_type": "code",
      "metadata": {
        "id": "I6HJi6p6ZRcY"
      },
      "source": [
        "# X_test_browse_node = testData.drop('BROWSE_NODE_ID', axis = 1)"
      ],
      "execution_count": null,
      "outputs": []
    },
    {
      "cell_type": "code",
      "metadata": {
        "id": "-lHRk48vW9Tj"
      },
      "source": [
        ""
      ],
      "execution_count": null,
      "outputs": []
    },
    {
      "cell_type": "code",
      "metadata": {
        "id": "U_cT7AkFslJZ"
      },
      "source": [
        "from nltk.tokenize import sent_tokenize, word_tokenize\n",
        "from collections import Counter\n",
        "import pickle\n",
        "import sys\n",
        "from glob import glob  \n",
        "import math\n",
        "import shutil\n",
        "import torch\n",
        "import torchvision \n",
        "import torch.nn as nn\n",
        "import torch.nn.functional as F\n",
        "import torch.optim as optim\n",
        "import torch.utils.data.dataset\n",
        "from torchvision.transforms import ToTensor,ToPILImage\n",
        "from sklearn import preprocessing\n",
        "from sklearn.model_selection import train_test_split\n",
        "import os"
      ],
      "execution_count": 9,
      "outputs": []
    },
    {
      "cell_type": "code",
      "metadata": {
        "id": "oxJxy2v1usfN"
      },
      "source": [
        "model = AutoModel.from_pretrained(\"distilbert-base-uncased\")\n",
        "bertOnly=BERTOnly(preTrainedBert=model)\n",
        "bertOnly.to(device)\n",
        "softmaxLoss = nn.CrossEntropyLoss()\n",
        "optimizer = optim.Adam(bertOnly.parameters(), lr=0.00001)"
      ],
      "execution_count": null,
      "outputs": []
    },
    {
      "cell_type": "markdown",
      "metadata": {
        "id": "mHPsixY2vStj"
      },
      "source": [
        "**Check for average data break case**"
      ]
    },
    {
      "cell_type": "code",
      "metadata": {
        "id": "XTvRD2Cmupie"
      },
      "source": [
        "def Average(lst): \n",
        "    return sum(lst) / len(lst) "
      ],
      "execution_count": null,
      "outputs": []
    },
    {
      "cell_type": "markdown",
      "metadata": {
        "id": "ZXS_iLI5u7Z-"
      },
      "source": [
        "**Train the data model**"
      ]
    },
    {
      "cell_type": "code",
      "metadata": {
        "id": "HixnGw_Muml1"
      },
      "source": [
        "def trainModel(model,epochs):\n",
        "  trainBatch=0\n",
        "  testBatch=0"
      ],
      "execution_count": 13,
      "outputs": []
    },
    {
      "cell_type": "code",
      "metadata": {
        "id": "W4bWStPZwQqB"
      },
      "source": [
        "for i in range(model):\n",
        "  model.train()\n",
        "  for batch_idx,(data,targets) in enumerate(trainLoader):\n",
        "    trainBatchCount=trainBatchCount+1\n",
        "    targets=targets.to(device)\n",
        "    optimizer.zero_grad()\n",
        "    scores=model(data)\n",
        "    loss=softmaxLoss(scores,targets)\n",
        "    loss.backward()\n",
        "    optimizer.step()\n",
        "    trainLosses.append(float(loss))\n",
        "    correct=0\n",
        "    total=0\n",
        "    total=len(targets)\n",
        "    predictions=torch.argmax(scores,dim=1)\n",
        "    correct = (predictions==targets).sum()\n",
        "    acc=float((correct/float(total))*100)\n",
        "    trainAcc.append(acc)\n",
        "\n",
        "  trainBatch=Average(trainLosses)\n",
        "  testBatch.append(trainLoss)\n",
        "return model,avgTrainLoss,avgTrainAcc"
      ],
      "execution_count": null,
      "outputs": []
    },
    {
      "cell_type": "code",
      "metadata": {
        "id": "0M28SGPJuKS6"
      },
      "source": [
        "def checkClassificationMetrics(loader,model):\n",
        "  completeTargets=[]\n",
        "  completePreds=[]\n",
        "  correct=0\n",
        "  total=0\n",
        "  model.eval()\n",
        "  with torch.no_grad():\n",
        "    for data in loader:\n",
        "      scores=model(data)\n",
        "      _,predictions=scores.max(1)\n",
        "      predictions=predictions.tolist()\n",
        "      completePreds.append(predictions)\n",
        "    completePredsFlattened=[item for sublist in completePreds for item in sublist]\n",
        "    return completePredsFlattened"
      ],
      "execution_count": 21,
      "outputs": []
    },
    {
      "cell_type": "code",
      "metadata": {
        "id": "tmXaB0uctZje"
      },
      "source": [
        "CM=checkClassificationMetrics(testLoader,bertOnly)"
      ],
      "execution_count": null,
      "outputs": []
    }
  ]
}